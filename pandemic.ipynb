{
 "cells": [
  {
   "cell_type": "markdown",
   "metadata": {},
   "source": [
    "# pandemic\n",
    "\n",
    "This is a simple Jupyter Notebook for Covid-19 Pandemic Analysis."
   ]
  },
  {
   "cell_type": "markdown",
   "metadata": {},
   "source": [
    "Load packages etc..."
   ]
  },
  {
   "cell_type": "code",
   "execution_count": 1,
   "metadata": {},
   "outputs": [],
   "source": [
    "import pandas as pd\n",
    "import numpy as np"
   ]
  },
  {
   "cell_type": "markdown",
   "metadata": {},
   "source": [
    "Download data from `CSSEGISandData`:"
   ]
  },
  {
   "cell_type": "code",
   "execution_count": 2,
   "metadata": {},
   "outputs": [
    {
     "data": {
      "text/plain": "('./data/raw/deaths.csv', <http.client.HTTPMessage at 0x16044a6d400>)"
     },
     "execution_count": 2,
     "metadata": {},
     "output_type": "execute_result"
    }
   ],
   "source": [
    "from urllib import request\n",
    "confirmed_url = 'https://raw.githubusercontent.com/CSSEGISandData/COVID-19/master/csse_covid_19_data/csse_covid_19_time_series/time_series_covid19_confirmed_global.csv'\n",
    "confirmed_file = './data/raw/confirmed.csv'\n",
    "request.urlretrieve(confirmed_url, confirmed_file)\n",
    "deaths_url = 'https://raw.githubusercontent.com/CSSEGISandData/COVID-19/master/csse_covid_19_data/csse_covid_19_time_series/time_series_covid19_deaths_global.csv'\n",
    "deaths_file = './data/raw/deaths.csv'\n",
    "request.urlretrieve(deaths_url, deaths_file)"
   ]
  },
  {
   "cell_type": "markdown",
   "metadata": {},
   "source": [
    "Load data into dataframes:"
   ]
  },
  {
   "cell_type": "code",
   "execution_count": 3,
   "metadata": {},
   "outputs": [],
   "source": [
    "confirmed = pd.read_csv(confirmed_file, index_col=False)\n",
    "deaths = pd.read_csv(deaths_file, index_col=False)"
   ]
  },
  {
   "cell_type": "markdown",
   "metadata": {},
   "source": [
    "Show some info about data:"
   ]
  },
  {
   "cell_type": "code",
   "execution_count": 4,
   "metadata": {},
   "outputs": [
    {
     "name": "stdout",
     "output_type": "stream",
     "text": [
      "<class 'pandas.core.frame.DataFrame'>\n",
      "RangeIndex: 280 entries, 0 to 279\n",
      "Columns: 725 entries, Province/State to 1/11/22\n",
      "dtypes: float64(2), int64(721), object(2)\n",
      "memory usage: 1.5+ MB\n",
      "<class 'pandas.core.frame.DataFrame'>\n",
      "RangeIndex: 280 entries, 0 to 279\n",
      "Columns: 725 entries, Province/State to 1/11/22\n",
      "dtypes: float64(2), int64(721), object(2)\n",
      "memory usage: 1.5+ MB\n"
     ]
    },
    {
     "data": {
      "text/plain": "              Lat        Long     1/22/20     1/23/20     1/24/20     1/25/20  \\\ncount  278.000000  278.000000  280.000000  280.000000  280.000000  280.000000   \nmean    20.156042   21.788955    0.060714    0.064286    0.092857    0.150000   \nstd     25.283318   76.200169    1.015944    1.017487    1.436326    2.391517   \nmin    -51.796300 -178.116500    0.000000    0.000000    0.000000    0.000000   \n25%      4.643279  -37.713675    0.000000    0.000000    0.000000    0.000000   \n50%     21.517170   20.921188    0.000000    0.000000    0.000000    0.000000   \n75%     40.393350   84.992575    0.000000    0.000000    0.000000    0.000000   \nmax     71.706900  178.065000   17.000000   17.000000   24.000000   40.000000   \n\n          1/26/20     1/27/20     1/28/20     1/29/20  ...         1/2/22  \\\ncount  280.000000  280.000000  280.000000  280.000000  ...     280.000000   \nmean     0.200000    0.292857    0.467857    0.475000  ...   19444.017857   \nstd      3.109011    4.542900    7.470302    7.470809  ...   76275.508809   \nmin      0.000000    0.000000    0.000000    0.000000  ...       0.000000   \n25%      0.000000    0.000000    0.000000    0.000000  ...      22.750000   \n50%      0.000000    0.000000    0.000000    0.000000  ...     708.500000   \n75%      0.000000    0.000000    0.000000    0.000000  ...    7355.000000   \nmax     52.000000   76.000000  125.000000  125.000000  ...  826289.000000   \n\n              1/3/22         1/4/22         1/5/22         1/6/22  \\\ncount     280.000000     280.000000     280.000000     280.000000   \nmean    19465.078571   19492.853571   19520.617857   19546.539286   \nstd     76362.649463   76483.215265   76590.488943   76691.519418   \nmin         0.000000       0.000000       0.000000       0.000000   \n25%        22.750000      22.750000      22.750000      22.750000   \n50%       709.500000     709.500000     710.500000     710.500000   \n75%      7355.750000    7365.250000    7367.500000    7367.750000   \nmax    827977.000000  830134.000000  832120.000000  833990.000000   \n\n              1/7/22         1/8/22         1/9/22        1/10/22  \\\ncount     280.000000     280.000000     280.000000     280.000000   \nmean    19572.500000   19590.464286   19604.596429   19627.546429   \nstd     76817.889761   76870.765077   76920.171951   77015.771337   \nmin         0.000000       0.000000       0.000000       0.000000   \n25%        22.750000      22.750000      22.750000      23.750000   \n50%       713.000000     721.000000     726.000000     727.500000   \n75%      7369.000000    7369.750000    7372.250000    7375.250000   \nmax    836605.000000  837266.000000  837665.000000  839500.000000   \n\n             1/11/22  \ncount     280.000000  \nmean    19658.525000  \nstd     77148.692281  \nmin         0.000000  \n25%        25.500000  \n50%       728.500000  \n75%      7377.000000  \nmax    842141.000000  \n\n[8 rows x 723 columns]",
      "text/html": "<div>\n<style scoped>\n    .dataframe tbody tr th:only-of-type {\n        vertical-align: middle;\n    }\n\n    .dataframe tbody tr th {\n        vertical-align: top;\n    }\n\n    .dataframe thead th {\n        text-align: right;\n    }\n</style>\n<table border=\"1\" class=\"dataframe\">\n  <thead>\n    <tr style=\"text-align: right;\">\n      <th></th>\n      <th>Lat</th>\n      <th>Long</th>\n      <th>1/22/20</th>\n      <th>1/23/20</th>\n      <th>1/24/20</th>\n      <th>1/25/20</th>\n      <th>1/26/20</th>\n      <th>1/27/20</th>\n      <th>1/28/20</th>\n      <th>1/29/20</th>\n      <th>...</th>\n      <th>1/2/22</th>\n      <th>1/3/22</th>\n      <th>1/4/22</th>\n      <th>1/5/22</th>\n      <th>1/6/22</th>\n      <th>1/7/22</th>\n      <th>1/8/22</th>\n      <th>1/9/22</th>\n      <th>1/10/22</th>\n      <th>1/11/22</th>\n    </tr>\n  </thead>\n  <tbody>\n    <tr>\n      <th>count</th>\n      <td>278.000000</td>\n      <td>278.000000</td>\n      <td>280.000000</td>\n      <td>280.000000</td>\n      <td>280.000000</td>\n      <td>280.000000</td>\n      <td>280.000000</td>\n      <td>280.000000</td>\n      <td>280.000000</td>\n      <td>280.000000</td>\n      <td>...</td>\n      <td>280.000000</td>\n      <td>280.000000</td>\n      <td>280.000000</td>\n      <td>280.000000</td>\n      <td>280.000000</td>\n      <td>280.000000</td>\n      <td>280.000000</td>\n      <td>280.000000</td>\n      <td>280.000000</td>\n      <td>280.000000</td>\n    </tr>\n    <tr>\n      <th>mean</th>\n      <td>20.156042</td>\n      <td>21.788955</td>\n      <td>0.060714</td>\n      <td>0.064286</td>\n      <td>0.092857</td>\n      <td>0.150000</td>\n      <td>0.200000</td>\n      <td>0.292857</td>\n      <td>0.467857</td>\n      <td>0.475000</td>\n      <td>...</td>\n      <td>19444.017857</td>\n      <td>19465.078571</td>\n      <td>19492.853571</td>\n      <td>19520.617857</td>\n      <td>19546.539286</td>\n      <td>19572.500000</td>\n      <td>19590.464286</td>\n      <td>19604.596429</td>\n      <td>19627.546429</td>\n      <td>19658.525000</td>\n    </tr>\n    <tr>\n      <th>std</th>\n      <td>25.283318</td>\n      <td>76.200169</td>\n      <td>1.015944</td>\n      <td>1.017487</td>\n      <td>1.436326</td>\n      <td>2.391517</td>\n      <td>3.109011</td>\n      <td>4.542900</td>\n      <td>7.470302</td>\n      <td>7.470809</td>\n      <td>...</td>\n      <td>76275.508809</td>\n      <td>76362.649463</td>\n      <td>76483.215265</td>\n      <td>76590.488943</td>\n      <td>76691.519418</td>\n      <td>76817.889761</td>\n      <td>76870.765077</td>\n      <td>76920.171951</td>\n      <td>77015.771337</td>\n      <td>77148.692281</td>\n    </tr>\n    <tr>\n      <th>min</th>\n      <td>-51.796300</td>\n      <td>-178.116500</td>\n      <td>0.000000</td>\n      <td>0.000000</td>\n      <td>0.000000</td>\n      <td>0.000000</td>\n      <td>0.000000</td>\n      <td>0.000000</td>\n      <td>0.000000</td>\n      <td>0.000000</td>\n      <td>...</td>\n      <td>0.000000</td>\n      <td>0.000000</td>\n      <td>0.000000</td>\n      <td>0.000000</td>\n      <td>0.000000</td>\n      <td>0.000000</td>\n      <td>0.000000</td>\n      <td>0.000000</td>\n      <td>0.000000</td>\n      <td>0.000000</td>\n    </tr>\n    <tr>\n      <th>25%</th>\n      <td>4.643279</td>\n      <td>-37.713675</td>\n      <td>0.000000</td>\n      <td>0.000000</td>\n      <td>0.000000</td>\n      <td>0.000000</td>\n      <td>0.000000</td>\n      <td>0.000000</td>\n      <td>0.000000</td>\n      <td>0.000000</td>\n      <td>...</td>\n      <td>22.750000</td>\n      <td>22.750000</td>\n      <td>22.750000</td>\n      <td>22.750000</td>\n      <td>22.750000</td>\n      <td>22.750000</td>\n      <td>22.750000</td>\n      <td>22.750000</td>\n      <td>23.750000</td>\n      <td>25.500000</td>\n    </tr>\n    <tr>\n      <th>50%</th>\n      <td>21.517170</td>\n      <td>20.921188</td>\n      <td>0.000000</td>\n      <td>0.000000</td>\n      <td>0.000000</td>\n      <td>0.000000</td>\n      <td>0.000000</td>\n      <td>0.000000</td>\n      <td>0.000000</td>\n      <td>0.000000</td>\n      <td>...</td>\n      <td>708.500000</td>\n      <td>709.500000</td>\n      <td>709.500000</td>\n      <td>710.500000</td>\n      <td>710.500000</td>\n      <td>713.000000</td>\n      <td>721.000000</td>\n      <td>726.000000</td>\n      <td>727.500000</td>\n      <td>728.500000</td>\n    </tr>\n    <tr>\n      <th>75%</th>\n      <td>40.393350</td>\n      <td>84.992575</td>\n      <td>0.000000</td>\n      <td>0.000000</td>\n      <td>0.000000</td>\n      <td>0.000000</td>\n      <td>0.000000</td>\n      <td>0.000000</td>\n      <td>0.000000</td>\n      <td>0.000000</td>\n      <td>...</td>\n      <td>7355.000000</td>\n      <td>7355.750000</td>\n      <td>7365.250000</td>\n      <td>7367.500000</td>\n      <td>7367.750000</td>\n      <td>7369.000000</td>\n      <td>7369.750000</td>\n      <td>7372.250000</td>\n      <td>7375.250000</td>\n      <td>7377.000000</td>\n    </tr>\n    <tr>\n      <th>max</th>\n      <td>71.706900</td>\n      <td>178.065000</td>\n      <td>17.000000</td>\n      <td>17.000000</td>\n      <td>24.000000</td>\n      <td>40.000000</td>\n      <td>52.000000</td>\n      <td>76.000000</td>\n      <td>125.000000</td>\n      <td>125.000000</td>\n      <td>...</td>\n      <td>826289.000000</td>\n      <td>827977.000000</td>\n      <td>830134.000000</td>\n      <td>832120.000000</td>\n      <td>833990.000000</td>\n      <td>836605.000000</td>\n      <td>837266.000000</td>\n      <td>837665.000000</td>\n      <td>839500.000000</td>\n      <td>842141.000000</td>\n    </tr>\n  </tbody>\n</table>\n<p>8 rows × 723 columns</p>\n</div>"
     },
     "execution_count": 4,
     "metadata": {},
     "output_type": "execute_result"
    }
   ],
   "source": [
    "confirmed.info()\n",
    "confirmed.describe()\n",
    "\n",
    "deaths.info()\n",
    "deaths.describe()"
   ]
  },
  {
   "cell_type": "markdown",
   "metadata": {},
   "source": [
    "Show some top data about `Poland`:"
   ]
  },
  {
   "cell_type": "code",
   "execution_count": 5,
   "metadata": {},
   "outputs": [
    {
     "data": {
      "text/plain": "    Province/State Country/Region      Lat     Long  1/22/20  1/23/20  \\\n213            NaN         Poland  51.9194  19.1451        0        0   \n\n     1/24/20  1/25/20  1/26/20  1/27/20  ...  1/2/22  1/3/22  1/4/22  1/5/22  \\\n213        0        0        0        0  ...   97592   97601   98034   98666   \n\n     1/6/22  1/7/22  1/8/22  1/9/22  1/10/22  1/11/22  \n213   99311   99428   99720   99742    99761   100254  \n\n[1 rows x 725 columns]",
      "text/html": "<div>\n<style scoped>\n    .dataframe tbody tr th:only-of-type {\n        vertical-align: middle;\n    }\n\n    .dataframe tbody tr th {\n        vertical-align: top;\n    }\n\n    .dataframe thead th {\n        text-align: right;\n    }\n</style>\n<table border=\"1\" class=\"dataframe\">\n  <thead>\n    <tr style=\"text-align: right;\">\n      <th></th>\n      <th>Province/State</th>\n      <th>Country/Region</th>\n      <th>Lat</th>\n      <th>Long</th>\n      <th>1/22/20</th>\n      <th>1/23/20</th>\n      <th>1/24/20</th>\n      <th>1/25/20</th>\n      <th>1/26/20</th>\n      <th>1/27/20</th>\n      <th>...</th>\n      <th>1/2/22</th>\n      <th>1/3/22</th>\n      <th>1/4/22</th>\n      <th>1/5/22</th>\n      <th>1/6/22</th>\n      <th>1/7/22</th>\n      <th>1/8/22</th>\n      <th>1/9/22</th>\n      <th>1/10/22</th>\n      <th>1/11/22</th>\n    </tr>\n  </thead>\n  <tbody>\n    <tr>\n      <th>213</th>\n      <td>NaN</td>\n      <td>Poland</td>\n      <td>51.9194</td>\n      <td>19.1451</td>\n      <td>0</td>\n      <td>0</td>\n      <td>0</td>\n      <td>0</td>\n      <td>0</td>\n      <td>0</td>\n      <td>...</td>\n      <td>97592</td>\n      <td>97601</td>\n      <td>98034</td>\n      <td>98666</td>\n      <td>99311</td>\n      <td>99428</td>\n      <td>99720</td>\n      <td>99742</td>\n      <td>99761</td>\n      <td>100254</td>\n    </tr>\n  </tbody>\n</table>\n<p>1 rows × 725 columns</p>\n</div>"
     },
     "execution_count": 5,
     "metadata": {},
     "output_type": "execute_result"
    }
   ],
   "source": [
    "confirmed[confirmed['Country/Region'] == 'Poland'].head(10)\n",
    "deaths[deaths['Country/Region'] == 'Poland'].head(10)\n"
   ]
  },
  {
   "cell_type": "markdown",
   "metadata": {},
   "source": [
    "Clean up data:"
   ]
  },
  {
   "cell_type": "code",
   "execution_count": 6,
   "metadata": {},
   "outputs": [],
   "source": [
    "confirmed = confirmed[confirmed['Country/Region'] == 'Poland']\n",
    "confirmed = confirmed.drop(columns=['Province/State','Lat','Long', 'Country/Region'])\n",
    "deaths = deaths[deaths['Country/Region'] == 'Poland']\n",
    "deaths = deaths.drop(columns=['Province/State','Lat','Long', 'Country/Region'])"
   ]
  },
  {
   "cell_type": "markdown",
   "metadata": {},
   "source": [
    "Calculate differences:"
   ]
  },
  {
   "cell_type": "code",
   "execution_count": 7,
   "metadata": {},
   "outputs": [],
   "source": [
    "confirmed_daily = confirmed.diff(periods=1, axis=1)\n",
    "confirmed_daily = confirmed_daily.replace(np.nan, 0)\n",
    "deaths_daily = deaths.diff(periods=1, axis=1)\n",
    "deaths_daily = deaths_daily.replace(np.nan, 0)\n"
   ]
  },
  {
   "cell_type": "markdown",
   "metadata": {},
   "source": [
    "Unpivot data:"
   ]
  },
  {
   "cell_type": "code",
   "execution_count": 8,
   "metadata": {},
   "outputs": [],
   "source": [
    "confirmed_total = confirmed.melt(\n",
    "        var_name=\"date\",\n",
    "        value_name=\"total_cases\")\n",
    "\n",
    "confirmed_daily = confirmed_daily.melt(\n",
    "        var_name=\"date\",\n",
    "        value_name=\"confirmed_by_day\")\n",
    "\n",
    "deaths_total = deaths.melt(\n",
    "        var_name=\"date\",\n",
    "        value_name=\"total_deaths\")\n",
    "\n",
    "deaths_daily = deaths_daily.melt(\n",
    "        var_name=\"date\",\n",
    "        value_name=\"deaths_by_day\")"
   ]
  },
  {
   "cell_type": "markdown",
   "metadata": {},
   "source": [
    "Merge data:"
   ]
  },
  {
   "cell_type": "code",
   "execution_count": 9,
   "metadata": {},
   "outputs": [
    {
     "data": {
      "text/plain": "        date  confirmed_by_day  deaths_by_day\n621  10/4/21               683              0\n622  10/5/21              1327             46\n623  10/6/21              2086             33\n624  10/7/21              2007             29\n625  10/8/21              1894             31\n..       ...               ...            ...\n716   1/7/22             11901            117\n717   1/8/22             10897            292\n718   1/9/22             11107             22\n719  1/10/22              7787             19\n720  1/11/22             11402            493\n\n[100 rows x 3 columns]",
      "text/html": "<div>\n<style scoped>\n    .dataframe tbody tr th:only-of-type {\n        vertical-align: middle;\n    }\n\n    .dataframe tbody tr th {\n        vertical-align: top;\n    }\n\n    .dataframe thead th {\n        text-align: right;\n    }\n</style>\n<table border=\"1\" class=\"dataframe\">\n  <thead>\n    <tr style=\"text-align: right;\">\n      <th></th>\n      <th>date</th>\n      <th>confirmed_by_day</th>\n      <th>deaths_by_day</th>\n    </tr>\n  </thead>\n  <tbody>\n    <tr>\n      <th>621</th>\n      <td>10/4/21</td>\n      <td>683</td>\n      <td>0</td>\n    </tr>\n    <tr>\n      <th>622</th>\n      <td>10/5/21</td>\n      <td>1327</td>\n      <td>46</td>\n    </tr>\n    <tr>\n      <th>623</th>\n      <td>10/6/21</td>\n      <td>2086</td>\n      <td>33</td>\n    </tr>\n    <tr>\n      <th>624</th>\n      <td>10/7/21</td>\n      <td>2007</td>\n      <td>29</td>\n    </tr>\n    <tr>\n      <th>625</th>\n      <td>10/8/21</td>\n      <td>1894</td>\n      <td>31</td>\n    </tr>\n    <tr>\n      <th>...</th>\n      <td>...</td>\n      <td>...</td>\n      <td>...</td>\n    </tr>\n    <tr>\n      <th>716</th>\n      <td>1/7/22</td>\n      <td>11901</td>\n      <td>117</td>\n    </tr>\n    <tr>\n      <th>717</th>\n      <td>1/8/22</td>\n      <td>10897</td>\n      <td>292</td>\n    </tr>\n    <tr>\n      <th>718</th>\n      <td>1/9/22</td>\n      <td>11107</td>\n      <td>22</td>\n    </tr>\n    <tr>\n      <th>719</th>\n      <td>1/10/22</td>\n      <td>7787</td>\n      <td>19</td>\n    </tr>\n    <tr>\n      <th>720</th>\n      <td>1/11/22</td>\n      <td>11402</td>\n      <td>493</td>\n    </tr>\n  </tbody>\n</table>\n<p>100 rows × 3 columns</p>\n</div>"
     },
     "execution_count": 9,
     "metadata": {},
     "output_type": "execute_result"
    }
   ],
   "source": [
    "confirmed_temp = pd.merge(confirmed_total, confirmed_daily, how='left', on='date')\n",
    "deaths_temp = pd.merge(deaths_total, deaths_daily, how='left', on='date')\n",
    "poland_cases = pd.merge(confirmed_temp, deaths_temp, how='left', on='date')\n",
    "poland_cases.replace(np.nan, 0)\n",
    "poland_cases.confirmed_by_day = poland_cases.confirmed_by_day.astype(int)\n",
    "poland_cases.deaths_by_day = poland_cases.deaths_by_day.astype(int)\n",
    "\n",
    "#poland_cases.tail(50)\n",
    "\n",
    "poland_cases_filtered = poland_cases[['date','confirmed_by_day','deaths_by_day']]\n",
    "poland_cases_filtered.tail(100)\n"
   ]
  }
 ],
 "metadata": {
  "kernelspec": {
   "display_name": "Python 3",
   "language": "python",
   "name": "python3"
  },
  "language_info": {
   "codemirror_mode": {
    "name": "ipython",
    "version": 3
   },
   "file_extension": ".py",
   "mimetype": "text/x-python",
   "name": "python",
   "nbconvert_exporter": "python",
   "pygments_lexer": "ipython3",
   "version": "3.9.0"
  }
 },
 "nbformat": 4,
 "nbformat_minor": 0
}