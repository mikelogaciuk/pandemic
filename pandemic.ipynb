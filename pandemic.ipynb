{
 "cells": [
  {
   "cell_type": "markdown",
   "metadata": {},
   "source": [
    "# pandemic\n",
    "\n",
    "This is a simple Jupyter Notebook for Covid-19 Pandemic Analysis."
   ]
  },
  {
   "cell_type": "markdown",
   "metadata": {},
   "source": [
    "Load packages etc..."
   ]
  },
  {
   "cell_type": "code",
   "execution_count": 1,
   "metadata": {},
   "outputs": [],
   "source": [
    "import pandas as pd\n",
    "import numpy as np"
   ]
  },
  {
   "cell_type": "markdown",
   "metadata": {},
   "source": [
    "Download data from `CSSEGISandData`:"
   ]
  },
  {
   "cell_type": "code",
   "execution_count": 2,
   "metadata": {},
   "outputs": [
    {
     "data": {
      "text/plain": "('./data/raw/deaths.csv', <http.client.HTTPMessage at 0x193793dd3a0>)"
     },
     "execution_count": 2,
     "metadata": {},
     "output_type": "execute_result"
    }
   ],
   "source": [
    "from urllib import request\n",
    "confirmed_url = 'https://raw.githubusercontent.com/CSSEGISandData/COVID-19/master/csse_covid_19_data/csse_covid_19_time_series/time_series_covid19_confirmed_global.csv'\n",
    "confirmed_file = './data/raw/confirmed.csv'\n",
    "request.urlretrieve(confirmed_url, confirmed_file)\n",
    "deaths_url = 'https://raw.githubusercontent.com/CSSEGISandData/COVID-19/master/csse_covid_19_data/csse_covid_19_time_series/time_series_covid19_deaths_global.csv'\n",
    "deaths_file = './data/raw/deaths.csv'\n",
    "request.urlretrieve(deaths_url, deaths_file)"
   ]
  },
  {
   "cell_type": "markdown",
   "metadata": {},
   "source": [
    "Load data into dataframes:"
   ]
  },
  {
   "cell_type": "code",
   "execution_count": 3,
   "metadata": {},
   "outputs": [],
   "source": [
    "confirmed = pd.read_csv(confirmed_file, index_col=False)\n",
    "deaths = pd.read_csv(deaths_file, index_col=False)"
   ]
  },
  {
   "cell_type": "markdown",
   "metadata": {},
   "source": [
    "Show some info about data:"
   ]
  },
  {
   "cell_type": "code",
   "execution_count": 4,
   "metadata": {},
   "outputs": [
    {
     "name": "stdout",
     "output_type": "stream",
     "text": [
      "<class 'pandas.core.frame.DataFrame'>\n",
      "RangeIndex: 284 entries, 0 to 283\n",
      "Columns: 773 entries, Province/State to 2/28/22\n",
      "dtypes: float64(2), int64(769), object(2)\n",
      "memory usage: 1.7+ MB\n",
      "<class 'pandas.core.frame.DataFrame'>\n",
      "RangeIndex: 284 entries, 0 to 283\n",
      "Columns: 773 entries, Province/State to 2/28/22\n",
      "dtypes: float64(2), int64(769), object(2)\n",
      "memory usage: 1.7+ MB\n"
     ]
    },
    {
     "data": {
      "text/plain": "              Lat        Long     1/22/20     1/23/20     1/24/20     1/25/20  \\\ncount  282.000000  282.000000  284.000000  284.000000  284.000000  284.000000   \nmean    20.106368   21.958718    0.059859    0.063380    0.091549    0.147887   \nstd     25.841453   75.893366    1.008764    1.010299    1.426181    2.374622   \nmin    -71.949900 -178.116500    0.000000    0.000000    0.000000    0.000000   \n25%      4.643279  -22.036550    0.000000    0.000000    0.000000    0.000000   \n50%     21.607878   20.921188    0.000000    0.000000    0.000000    0.000000   \n75%     40.950592   84.992575    0.000000    0.000000    0.000000    0.000000   \nmax     71.706900  178.065000   17.000000   17.000000   24.000000   40.000000   \n\n          1/26/20     1/27/20     1/28/20     1/29/20  ...        2/19/22  \\\ncount  284.000000  284.000000  284.000000  284.000000  ...     284.000000   \nmean     0.197183    0.288732    0.461268    0.468310  ...   20715.598592   \nstd      3.087051    4.510813    7.417526    7.418036  ...   82527.302768   \nmin      0.000000    0.000000    0.000000    0.000000  ...       0.000000   \n25%      0.000000    0.000000    0.000000    0.000000  ...      35.000000   \n50%      0.000000    0.000000    0.000000    0.000000  ...     788.500000   \n75%      0.000000    0.000000    0.000000    0.000000  ...    7462.000000   \nmax     52.000000   76.000000  125.000000  125.000000  ...  935725.000000   \n\n             2/20/22        2/21/22        2/22/22        2/23/22  \\\ncount     284.000000     284.000000     284.000000     284.000000   \nmean    20734.211268   20746.489437   20795.718310   20836.961268   \nstd     82576.926519   82626.017190   82783.433092   82965.661312   \nmin         0.000000       0.000000       0.000000       0.000000   \n25%        35.250000      35.250000      35.250000      35.250000   \n50%       788.500000     788.500000     788.500000     788.500000   \n75%      7472.250000    7518.250000    7578.500000    7602.750000   \nmax    936109.000000  936957.000000  939064.000000  941889.000000   \n\n             2/24/22        2/25/22       2/26/22        2/27/22  \\\ncount     284.000000     284.000000     284.00000     284.000000   \nmean    20874.894366   20908.105634   20930.71831   20946.295775   \nstd     83142.820644   83297.113893   83375.43663   83409.570745   \nmin         0.000000       0.000000       0.00000       0.000000   \n25%        35.250000      35.250000      35.25000      35.500000   \n50%       788.500000     789.000000     789.00000     789.000000   \n75%      7629.250000    7658.000000    7674.75000    7694.500000   \nmax    944830.000000  947417.000000  948215.00000  948397.000000   \n\n             2/28/22  \ncount     284.000000  \nmean    20973.623239  \nstd     83522.449513  \nmin         0.000000  \n25%        35.500000  \n50%       789.500000  \n75%      7707.750000  \nmax    950490.000000  \n\n[8 rows x 771 columns]",
      "text/html": "<div>\n<style scoped>\n    .dataframe tbody tr th:only-of-type {\n        vertical-align: middle;\n    }\n\n    .dataframe tbody tr th {\n        vertical-align: top;\n    }\n\n    .dataframe thead th {\n        text-align: right;\n    }\n</style>\n<table border=\"1\" class=\"dataframe\">\n  <thead>\n    <tr style=\"text-align: right;\">\n      <th></th>\n      <th>Lat</th>\n      <th>Long</th>\n      <th>1/22/20</th>\n      <th>1/23/20</th>\n      <th>1/24/20</th>\n      <th>1/25/20</th>\n      <th>1/26/20</th>\n      <th>1/27/20</th>\n      <th>1/28/20</th>\n      <th>1/29/20</th>\n      <th>...</th>\n      <th>2/19/22</th>\n      <th>2/20/22</th>\n      <th>2/21/22</th>\n      <th>2/22/22</th>\n      <th>2/23/22</th>\n      <th>2/24/22</th>\n      <th>2/25/22</th>\n      <th>2/26/22</th>\n      <th>2/27/22</th>\n      <th>2/28/22</th>\n    </tr>\n  </thead>\n  <tbody>\n    <tr>\n      <th>count</th>\n      <td>282.000000</td>\n      <td>282.000000</td>\n      <td>284.000000</td>\n      <td>284.000000</td>\n      <td>284.000000</td>\n      <td>284.000000</td>\n      <td>284.000000</td>\n      <td>284.000000</td>\n      <td>284.000000</td>\n      <td>284.000000</td>\n      <td>...</td>\n      <td>284.000000</td>\n      <td>284.000000</td>\n      <td>284.000000</td>\n      <td>284.000000</td>\n      <td>284.000000</td>\n      <td>284.000000</td>\n      <td>284.000000</td>\n      <td>284.00000</td>\n      <td>284.000000</td>\n      <td>284.000000</td>\n    </tr>\n    <tr>\n      <th>mean</th>\n      <td>20.106368</td>\n      <td>21.958718</td>\n      <td>0.059859</td>\n      <td>0.063380</td>\n      <td>0.091549</td>\n      <td>0.147887</td>\n      <td>0.197183</td>\n      <td>0.288732</td>\n      <td>0.461268</td>\n      <td>0.468310</td>\n      <td>...</td>\n      <td>20715.598592</td>\n      <td>20734.211268</td>\n      <td>20746.489437</td>\n      <td>20795.718310</td>\n      <td>20836.961268</td>\n      <td>20874.894366</td>\n      <td>20908.105634</td>\n      <td>20930.71831</td>\n      <td>20946.295775</td>\n      <td>20973.623239</td>\n    </tr>\n    <tr>\n      <th>std</th>\n      <td>25.841453</td>\n      <td>75.893366</td>\n      <td>1.008764</td>\n      <td>1.010299</td>\n      <td>1.426181</td>\n      <td>2.374622</td>\n      <td>3.087051</td>\n      <td>4.510813</td>\n      <td>7.417526</td>\n      <td>7.418036</td>\n      <td>...</td>\n      <td>82527.302768</td>\n      <td>82576.926519</td>\n      <td>82626.017190</td>\n      <td>82783.433092</td>\n      <td>82965.661312</td>\n      <td>83142.820644</td>\n      <td>83297.113893</td>\n      <td>83375.43663</td>\n      <td>83409.570745</td>\n      <td>83522.449513</td>\n    </tr>\n    <tr>\n      <th>min</th>\n      <td>-71.949900</td>\n      <td>-178.116500</td>\n      <td>0.000000</td>\n      <td>0.000000</td>\n      <td>0.000000</td>\n      <td>0.000000</td>\n      <td>0.000000</td>\n      <td>0.000000</td>\n      <td>0.000000</td>\n      <td>0.000000</td>\n      <td>...</td>\n      <td>0.000000</td>\n      <td>0.000000</td>\n      <td>0.000000</td>\n      <td>0.000000</td>\n      <td>0.000000</td>\n      <td>0.000000</td>\n      <td>0.000000</td>\n      <td>0.00000</td>\n      <td>0.000000</td>\n      <td>0.000000</td>\n    </tr>\n    <tr>\n      <th>25%</th>\n      <td>4.643279</td>\n      <td>-22.036550</td>\n      <td>0.000000</td>\n      <td>0.000000</td>\n      <td>0.000000</td>\n      <td>0.000000</td>\n      <td>0.000000</td>\n      <td>0.000000</td>\n      <td>0.000000</td>\n      <td>0.000000</td>\n      <td>...</td>\n      <td>35.000000</td>\n      <td>35.250000</td>\n      <td>35.250000</td>\n      <td>35.250000</td>\n      <td>35.250000</td>\n      <td>35.250000</td>\n      <td>35.250000</td>\n      <td>35.25000</td>\n      <td>35.500000</td>\n      <td>35.500000</td>\n    </tr>\n    <tr>\n      <th>50%</th>\n      <td>21.607878</td>\n      <td>20.921188</td>\n      <td>0.000000</td>\n      <td>0.000000</td>\n      <td>0.000000</td>\n      <td>0.000000</td>\n      <td>0.000000</td>\n      <td>0.000000</td>\n      <td>0.000000</td>\n      <td>0.000000</td>\n      <td>...</td>\n      <td>788.500000</td>\n      <td>788.500000</td>\n      <td>788.500000</td>\n      <td>788.500000</td>\n      <td>788.500000</td>\n      <td>788.500000</td>\n      <td>789.000000</td>\n      <td>789.00000</td>\n      <td>789.000000</td>\n      <td>789.500000</td>\n    </tr>\n    <tr>\n      <th>75%</th>\n      <td>40.950592</td>\n      <td>84.992575</td>\n      <td>0.000000</td>\n      <td>0.000000</td>\n      <td>0.000000</td>\n      <td>0.000000</td>\n      <td>0.000000</td>\n      <td>0.000000</td>\n      <td>0.000000</td>\n      <td>0.000000</td>\n      <td>...</td>\n      <td>7462.000000</td>\n      <td>7472.250000</td>\n      <td>7518.250000</td>\n      <td>7578.500000</td>\n      <td>7602.750000</td>\n      <td>7629.250000</td>\n      <td>7658.000000</td>\n      <td>7674.75000</td>\n      <td>7694.500000</td>\n      <td>7707.750000</td>\n    </tr>\n    <tr>\n      <th>max</th>\n      <td>71.706900</td>\n      <td>178.065000</td>\n      <td>17.000000</td>\n      <td>17.000000</td>\n      <td>24.000000</td>\n      <td>40.000000</td>\n      <td>52.000000</td>\n      <td>76.000000</td>\n      <td>125.000000</td>\n      <td>125.000000</td>\n      <td>...</td>\n      <td>935725.000000</td>\n      <td>936109.000000</td>\n      <td>936957.000000</td>\n      <td>939064.000000</td>\n      <td>941889.000000</td>\n      <td>944830.000000</td>\n      <td>947417.000000</td>\n      <td>948215.00000</td>\n      <td>948397.000000</td>\n      <td>950490.000000</td>\n    </tr>\n  </tbody>\n</table>\n<p>8 rows × 771 columns</p>\n</div>"
     },
     "execution_count": 4,
     "metadata": {},
     "output_type": "execute_result"
    }
   ],
   "source": [
    "confirmed.info()\n",
    "confirmed.describe()\n",
    "\n",
    "deaths.info()\n",
    "deaths.describe()"
   ]
  },
  {
   "cell_type": "markdown",
   "metadata": {},
   "source": [
    "Show some top data about `Poland`:"
   ]
  },
  {
   "cell_type": "code",
   "execution_count": 5,
   "metadata": {},
   "outputs": [
    {
     "data": {
      "text/plain": "    Province/State Country/Region      Lat     Long  1/22/20  1/23/20  \\\n214            NaN         Poland  51.9194  19.1451        0        0   \n\n     1/24/20  1/25/20  1/26/20  1/27/20  ...  2/19/22  2/20/22  2/21/22  \\\n214        0        0        0        0  ...   109792   109817   109833   \n\n     2/22/22  2/23/22  2/24/22  2/25/22  2/26/22  2/27/22  2/28/22  \n214   110157   110517   110858   111056   111277   111316   111317  \n\n[1 rows x 773 columns]",
      "text/html": "<div>\n<style scoped>\n    .dataframe tbody tr th:only-of-type {\n        vertical-align: middle;\n    }\n\n    .dataframe tbody tr th {\n        vertical-align: top;\n    }\n\n    .dataframe thead th {\n        text-align: right;\n    }\n</style>\n<table border=\"1\" class=\"dataframe\">\n  <thead>\n    <tr style=\"text-align: right;\">\n      <th></th>\n      <th>Province/State</th>\n      <th>Country/Region</th>\n      <th>Lat</th>\n      <th>Long</th>\n      <th>1/22/20</th>\n      <th>1/23/20</th>\n      <th>1/24/20</th>\n      <th>1/25/20</th>\n      <th>1/26/20</th>\n      <th>1/27/20</th>\n      <th>...</th>\n      <th>2/19/22</th>\n      <th>2/20/22</th>\n      <th>2/21/22</th>\n      <th>2/22/22</th>\n      <th>2/23/22</th>\n      <th>2/24/22</th>\n      <th>2/25/22</th>\n      <th>2/26/22</th>\n      <th>2/27/22</th>\n      <th>2/28/22</th>\n    </tr>\n  </thead>\n  <tbody>\n    <tr>\n      <th>214</th>\n      <td>NaN</td>\n      <td>Poland</td>\n      <td>51.9194</td>\n      <td>19.1451</td>\n      <td>0</td>\n      <td>0</td>\n      <td>0</td>\n      <td>0</td>\n      <td>0</td>\n      <td>0</td>\n      <td>...</td>\n      <td>109792</td>\n      <td>109817</td>\n      <td>109833</td>\n      <td>110157</td>\n      <td>110517</td>\n      <td>110858</td>\n      <td>111056</td>\n      <td>111277</td>\n      <td>111316</td>\n      <td>111317</td>\n    </tr>\n  </tbody>\n</table>\n<p>1 rows × 773 columns</p>\n</div>"
     },
     "execution_count": 5,
     "metadata": {},
     "output_type": "execute_result"
    }
   ],
   "source": [
    "confirmed[confirmed['Country/Region'] == 'Poland'].head(10)\n",
    "deaths[deaths['Country/Region'] == 'Poland'].head(10)\n"
   ]
  },
  {
   "cell_type": "markdown",
   "metadata": {},
   "source": [
    "Clean up data:"
   ]
  },
  {
   "cell_type": "code",
   "execution_count": 6,
   "metadata": {},
   "outputs": [],
   "source": [
    "confirmed = confirmed[confirmed['Country/Region'] == 'Poland']\n",
    "confirmed = confirmed.drop(columns=['Province/State','Lat','Long', 'Country/Region'])\n",
    "deaths = deaths[deaths['Country/Region'] == 'Poland']\n",
    "deaths = deaths.drop(columns=['Province/State','Lat','Long', 'Country/Region'])"
   ]
  },
  {
   "cell_type": "markdown",
   "metadata": {},
   "source": [
    "Calculate differences:"
   ]
  },
  {
   "cell_type": "code",
   "execution_count": 7,
   "metadata": {},
   "outputs": [],
   "source": [
    "confirmed_daily = confirmed.diff(periods=1, axis=1)\n",
    "confirmed_daily = confirmed_daily.replace(np.nan, 0)\n",
    "deaths_daily = deaths.diff(periods=1, axis=1)\n",
    "deaths_daily = deaths_daily.replace(np.nan, 0)\n"
   ]
  },
  {
   "cell_type": "markdown",
   "metadata": {},
   "source": [
    "Unpivot data:"
   ]
  },
  {
   "cell_type": "code",
   "execution_count": 8,
   "metadata": {},
   "outputs": [],
   "source": [
    "confirmed_total = confirmed.melt(\n",
    "        var_name=\"date\",\n",
    "        value_name=\"total_cases\")\n",
    "\n",
    "confirmed_daily = confirmed_daily.melt(\n",
    "        var_name=\"date\",\n",
    "        value_name=\"confirmed_by_day\")\n",
    "\n",
    "deaths_total = deaths.melt(\n",
    "        var_name=\"date\",\n",
    "        value_name=\"total_deaths\")\n",
    "\n",
    "deaths_daily = deaths_daily.melt(\n",
    "        var_name=\"date\",\n",
    "        value_name=\"deaths_by_day\")"
   ]
  },
  {
   "cell_type": "markdown",
   "metadata": {},
   "source": [
    "Merge data:"
   ]
  },
  {
   "cell_type": "code",
   "execution_count": 9,
   "metadata": {},
   "outputs": [
    {
     "data": {
      "text/plain": "         date  confirmed_by_day  deaths_by_day\n669  11/21/21             18924             41\n670  11/22/21             12375              8\n671  11/23/21             19935            398\n672  11/24/21             28431            460\n673  11/25/21             28143            498\n..        ...               ...            ...\n764   2/24/22             18266            341\n765   2/25/22             16700            198\n766   2/26/22             13950            221\n767   2/27/22              8897             39\n768   2/28/22              6561              1\n\n[100 rows x 3 columns]",
      "text/html": "<div>\n<style scoped>\n    .dataframe tbody tr th:only-of-type {\n        vertical-align: middle;\n    }\n\n    .dataframe tbody tr th {\n        vertical-align: top;\n    }\n\n    .dataframe thead th {\n        text-align: right;\n    }\n</style>\n<table border=\"1\" class=\"dataframe\">\n  <thead>\n    <tr style=\"text-align: right;\">\n      <th></th>\n      <th>date</th>\n      <th>confirmed_by_day</th>\n      <th>deaths_by_day</th>\n    </tr>\n  </thead>\n  <tbody>\n    <tr>\n      <th>669</th>\n      <td>11/21/21</td>\n      <td>18924</td>\n      <td>41</td>\n    </tr>\n    <tr>\n      <th>670</th>\n      <td>11/22/21</td>\n      <td>12375</td>\n      <td>8</td>\n    </tr>\n    <tr>\n      <th>671</th>\n      <td>11/23/21</td>\n      <td>19935</td>\n      <td>398</td>\n    </tr>\n    <tr>\n      <th>672</th>\n      <td>11/24/21</td>\n      <td>28431</td>\n      <td>460</td>\n    </tr>\n    <tr>\n      <th>673</th>\n      <td>11/25/21</td>\n      <td>28143</td>\n      <td>498</td>\n    </tr>\n    <tr>\n      <th>...</th>\n      <td>...</td>\n      <td>...</td>\n      <td>...</td>\n    </tr>\n    <tr>\n      <th>764</th>\n      <td>2/24/22</td>\n      <td>18266</td>\n      <td>341</td>\n    </tr>\n    <tr>\n      <th>765</th>\n      <td>2/25/22</td>\n      <td>16700</td>\n      <td>198</td>\n    </tr>\n    <tr>\n      <th>766</th>\n      <td>2/26/22</td>\n      <td>13950</td>\n      <td>221</td>\n    </tr>\n    <tr>\n      <th>767</th>\n      <td>2/27/22</td>\n      <td>8897</td>\n      <td>39</td>\n    </tr>\n    <tr>\n      <th>768</th>\n      <td>2/28/22</td>\n      <td>6561</td>\n      <td>1</td>\n    </tr>\n  </tbody>\n</table>\n<p>100 rows × 3 columns</p>\n</div>"
     },
     "execution_count": 9,
     "metadata": {},
     "output_type": "execute_result"
    }
   ],
   "source": [
    "confirmed_temp = pd.merge(confirmed_total, confirmed_daily, how='left', on='date')\n",
    "deaths_temp = pd.merge(deaths_total, deaths_daily, how='left', on='date')\n",
    "poland_cases = pd.merge(confirmed_temp, deaths_temp, how='left', on='date')\n",
    "poland_cases.replace(np.nan, 0)\n",
    "poland_cases.confirmed_by_day = poland_cases.confirmed_by_day.astype(int)\n",
    "poland_cases.deaths_by_day = poland_cases.deaths_by_day.astype(int)\n",
    "\n",
    "#poland_cases.tail(50)\n",
    "\n",
    "poland_cases_filtered = poland_cases[['date','confirmed_by_day','deaths_by_day']]\n",
    "poland_cases_filtered.tail(100)\n"
   ]
  }
 ],
 "metadata": {
  "kernelspec": {
   "display_name": "Python 3",
   "language": "python",
   "name": "python3"
  },
  "language_info": {
   "codemirror_mode": {
    "name": "ipython",
    "version": 3
   },
   "file_extension": ".py",
   "mimetype": "text/x-python",
   "name": "python",
   "nbconvert_exporter": "python",
   "pygments_lexer": "ipython3",
   "version": "3.9.0"
  }
 },
 "nbformat": 4,
 "nbformat_minor": 0
}